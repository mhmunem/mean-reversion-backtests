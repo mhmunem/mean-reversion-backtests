{
 "cells": [
  {
   "cell_type": "code",
   "execution_count": 14,
   "metadata": {},
   "outputs": [
    {
     "data": {
      "text/plain": [
       "'/home/mhmunem/finapps/BB_Backtest'"
      ]
     },
     "execution_count": 14,
     "metadata": {},
     "output_type": "execute_result"
    }
   ],
   "source": [
    "import sys\n",
    "from os.path import abspath, exists\n",
    "from os import makedirs\n",
    "import pandas as pd\n",
    "from pandas_datareader import data as pdr\n",
    "import yfinance as yf\n",
    "yf.pdr_override()\n",
    "\n",
    "ROOT_DIR = abspath('../')\n",
    "sys.path.append(ROOT_DIR)\n",
    "ROOT_DIR"
   ]
  },
  {
   "cell_type": "code",
   "execution_count": 36,
   "metadata": {},
   "outputs": [],
   "source": [
    "SP500_URL = \"https://en.wikipedia.org/wiki/List_of_S%26P_500_companies\"\n",
    "TICKER_FILE_PATH = f\"{ROOT_DIR}/data/sp500_tickers.csv\"\n",
    "START_DATE = \"2011-01-01\"\n",
    "END_DATE = \"2023-12-31\"\n",
    "CSVS_FILE_PATH = f\"{ROOT_DIR}/data/sp500/daily/\"\n",
    "PARQUET_FILE_PATH = f\"{ROOT_DIR}/data/sp500_stock_data.parquet\""
   ]
  },
  {
   "cell_type": "code",
   "execution_count": 37,
   "metadata": {},
   "outputs": [],
   "source": [
    "def clean_data(dataframe: pd.DataFrame) -> pd.DataFrame:\n",
    "    df = dataframe.reset_index()\n",
    "    # Format the data as per the specified format\n",
    "    df = df[[\"Date\", \"Open\", \"High\", \"Low\", \"Close\", \"Volume\"]]\n",
    "    df = df.rename(columns={'Date':'timestamp', 'Open':'open', 'High':'high', \n",
    "                            'Low':'low','Close':'close', 'Volume':'volume'}) # type: ignore\n",
    "    \n",
    "    df[\"timestamp\"] = df[\"timestamp\"].dt.strftime('%Y-%m-%d %H:%M:%S.%f')\n",
    "    # Round numeric columns to 2 decimal places\n",
    "    numeric_cols = [\"open\", \"high\", \"low\", \"close\", \"volume\"]\n",
    "    df[numeric_cols] = df[numeric_cols].round(2) \n",
    "    df['open'] = df['open'].astype(float)\n",
    "    df['high'] = df['high'].astype(float)\n",
    "    df['low'] = df['low'].astype(float)\n",
    "    df['close'] = df['close'].astype(float)\n",
    "    df['volume'] = df['volume'].astype(float)\n",
    "    df = df.dropna()\n",
    "    df = df.reindex(columns=['timestamp', 'open', 'high', 'low', 'close', 'volume'], index=df.index[::-1])\n",
    "    df.reset_index(drop=True, inplace=True)\n",
    "    df.set_index(keys='timestamp', inplace=True)\n",
    "    return df\n",
    "\n",
    "\n",
    "def download_tickers():\n",
    "    data = pd.read_html(SP500_URL)\n",
    "    sp500_tickers = data[0]['Symbol'].str.replace('.', '-').replace('RVTY (Previously PKI)', 'RVTY').tolist()\n",
    "    sp500_df = pd.DataFrame(sp500_tickers, columns=['Ticker'])\n",
    "    print(f\"Downloading...\")\n",
    "    # Save to CSV\n",
    "    sp500_df.to_csv(TICKER_FILE_PATH, index=False)\n",
    "    print(f\"Downloaded\")\n",
    "    \n",
    "\n",
    "def download_csvs():\n",
    "    sp500_df = pd.read_csv(TICKER_FILE_PATH)\n",
    "    sp500_tickers = sp500_df['Ticker'].tolist()\n",
    "    \n",
    "    if not exists(CSVS_FILE_PATH):\n",
    "        makedirs(CSVS_FILE_PATH)\n",
    "\n",
    "    for ticker in sp500_tickers:\n",
    "        try:\n",
    "            data = pdr.get_data_yahoo(ticker, start=START_DATE, end=END_DATE, progress=False)\n",
    "            data = clean_data(data)\n",
    "            data.to_csv(f\"{CSVS_FILE_PATH}{ticker}.csv\")\n",
    "            print(f\"Downloaded data for {ticker}\")\n",
    "        except Exception as e:\n",
    "            print(f\"Error downloading data for {ticker}: {e}\")\n",
    "\n",
    "\n",
    "def download_parquets():\n",
    "    # Read the CSV file\n",
    "    sp500_df = pd.read_csv(TICKER_FILE_PATH)\n",
    "    sp500_tickers = sp500_df['Ticker'].tolist()\n",
    "\n",
    "    # download dataframe\n",
    "    sp500_stock_data = pdr.get_data_yahoo(sp500_tickers, start=START_DATE, end=END_DATE)\n",
    "    sp500_stock_data = sp500_stock_data.rename(columns={'Date':'timestamp', 'Open':'open', 'High':'high', \n",
    "                                'Low':'low','Close':'close', 'Volume':'volume'}) # type: ignore\n",
    "    sp500_stock_data = sp500_stock_data.drop(columns=\"Adj Close\")\n",
    "    # Swap levels 0 and 1\n",
    "    sp500_stock_data = sp500_stock_data.swaplevel(0, 1, axis=1)\n",
    "    #Sort the columns by the levels\n",
    "    sp500_stock_data = sp500_stock_data.sort_index(axis=1, level=[0, 1])\n",
    "    #save to parquet file\n",
    "    sp500_stock_data.to_parquet(PARQUET_FILE_PATH, engine=\"pyarrow\")\n",
    "    \n",
    "def download_data(type: str):\n",
    "    if type == \"sp500tickers\":\n",
    "        download_tickers()\n",
    "    elif type == \"sp500csvs\":\n",
    "        download_csvs()\n",
    "    elif type == \"sp500parquet\":\n",
    "        download_parquets()\n",
    "    "
   ]
  },
  {
   "cell_type": "code",
   "execution_count": 39,
   "metadata": {},
   "outputs": [
    {
     "name": "stdout",
     "output_type": "stream",
     "text": [
      "[*********************100%%**********************]  503 of 503 completed\n"
     ]
    }
   ],
   "source": [
    "if __name__ == \"__main__\":\n",
    "    # download_data(\"sp500parquet\")\n",
    "    print(\"running...\")"
   ]
  },
  {
   "cell_type": "code",
   "execution_count": null,
   "metadata": {},
   "outputs": [],
   "source": []
  }
 ],
 "metadata": {
  "kernelspec": {
   "display_name": "finenv",
   "language": "python",
   "name": "python3"
  },
  "language_info": {
   "codemirror_mode": {
    "name": "ipython",
    "version": 3
   },
   "file_extension": ".py",
   "mimetype": "text/x-python",
   "name": "python",
   "nbconvert_exporter": "python",
   "pygments_lexer": "ipython3",
   "version": "3.9.18"
  }
 },
 "nbformat": 4,
 "nbformat_minor": 2
}
