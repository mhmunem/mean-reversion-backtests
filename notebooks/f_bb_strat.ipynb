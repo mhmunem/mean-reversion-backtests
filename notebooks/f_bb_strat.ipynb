{
 "cells": [
  {
   "cell_type": "code",
   "execution_count": 2,
   "metadata": {},
   "outputs": [],
   "source": [
    "import os\n",
    "import sys\n",
    "from datetime import datetime\n",
    "from os.path import abspath\n",
    "import pandas as pd\n",
    "from pandas_datareader import data as pdr\n",
    "import yfinance as yf\n",
    "import matplotlib.pyplot as plt\n",
    "import quantstats as qs\n",
    "from hurst import compute_Hc\n",
    "\n",
    "yf.pdr_override()\n",
    "\n",
    "# Zipline imports\n",
    "from zipline.utils.run_algo import load_extensions\n",
    "from zipline.data import bundles\n",
    "from zipline.data.data_portal import DataPortal\n",
    "from zipline.utils.calendar_utils import get_calendar\n",
    "\n",
    "from zipline.api import set_max_leverage, schedule_function, set_benchmark,set_commission\n",
    "from zipline.finance.commission import PerContract, PerDollar, PerShare, PerTrade\n",
    "from zipline.finance.commission import CommissionModel\n",
    "from zipline.finance.slippage import VolumeShareSlippage, FixedSlippage\n",
    "from zipline.finance.commission import PerShare, PerTrade, PerDollar\n",
    "from zipline.api import set_slippage, set_commission\n",
    "from zipline.data.bundles import register, unregister, ingest\n",
    "from zipline.data.bundles.csvdir import csvdir_equities\n",
    "from zipline.utils.calendar_utils import register_calendar, get_calendar\n",
    "from zipline.api import (order, \n",
    "                         order_target,\n",
    "                         order_value,\n",
    "                         record, \n",
    "                         symbol,\n",
    "                         get_datetime,\n",
    "                         order_target_percent,\n",
    "                         order_target_value,\n",
    "                         set_benchmark,\n",
    "                         get_open_orders)\n",
    "from zipline import run_algorithm\n",
    "from zipline.utils.calendar_utils import get_calendar\n",
    "from zipline.api import order_target, record, date_rules, time_rules, symbol # type: ignore\n",
    "\n",
    "# Ignore Warnings  \n",
    "import warnings\n",
    "warnings.filterwarnings('ignore', category=Warning)\n",
    "warnings.filterwarnings('ignore', category=RuntimeWarning)\n",
    "warnings.filterwarnings('ignore', category=DeprecationWarning)\n",
    "warnings.filterwarnings('ignore', category=UserWarning)\n",
    "\n",
    "load_extensions(\n",
    "    default=True,\n",
    "    extensions=[],\n",
    "    strict=True,\n",
    "    environ=os.environ,\n",
    ")\n",
    "%matplotlib inline\n",
    "%load_ext autoreload\n",
    "%autoreload 2\n",
    "\n",
    "ROOT_DIR = abspath('../')\n",
    "sys.path.append(ROOT_DIR)"
   ]
  },
  {
   "cell_type": "markdown",
   "metadata": {},
   "source": [
    "# Todo list\n",
    "1. Filter out stocks with with hurst exponents (It is good at finding mean reverting time series)\n",
    "2. Built a Bollinger bands strategy\n",
    "3. Use QuantStats to evaluate the Strategy"
   ]
  },
  {
   "cell_type": "code",
   "execution_count": 3,
   "metadata": {},
   "outputs": [],
   "source": [
    "ROOT_DIR = abspath('../')\n",
    "sys.path.append(ROOT_DIR)\n",
    "TICKER_FILE_PATH = f\"{ROOT_DIR}/data/sp500_tickers.csv\" \n",
    "PARQUET_FILE_PATH = f\"{ROOT_DIR}/data/sp500_stock_data.parquet\"\n",
    "\n",
    "START_DATE = datetime(2018, 1, 1)\n",
    "END_DATE = datetime(2023, 12, 31)\n",
    "\n",
    "def calculate_years() -> int:\n",
    "    return int((END_DATE - START_DATE).days / 365)\n",
    "\n",
    "YEARS = calculate_years()"
   ]
  },
  {
   "cell_type": "code",
   "execution_count": 4,
   "metadata": {},
   "outputs": [],
   "source": [
    "def load_tickers():\n",
    "    sp500_df = pd.read_csv(TICKER_FILE_PATH)\n",
    "    sp500_stock_data = pd.read_parquet(PARQUET_FILE_PATH) \n",
    "    return sp500_df['Ticker'].tolist(), sp500_stock_data\n",
    "\n",
    "def is_not_null(close_data: pd.Series) -> bool:\n",
    "    years = calculate_years()\n",
    "    return len(close_data) >= 251.5 * years\n",
    "\n",
    "def calculate_hurst_exponent(close_data: pd.Series) -> float:\n",
    "    H, c, data = compute_Hc(close_data, kind=\"price\", simplified=True)\n",
    "    return H\n",
    "\n",
    "def hurst_filter(threshold: float = 0.5):\n",
    "    sp500_tickers, sp500_stock_data = load_tickers()\n",
    "    filtered_tickers = []\n",
    "    for ticker in sp500_tickers:\n",
    "        if ticker in sp500_stock_data:\n",
    "            close_data = sp500_stock_data[ticker][START_DATE : END_DATE][\n",
    "                \"close\"\n",
    "            ].dropna()\n",
    "            if is_not_null(close_data):\n",
    "                hurst_exponent = calculate_hurst_exponent(close_data)\n",
    "                if hurst_exponent <= threshold:\n",
    "                    filtered_tickers.append((ticker, hurst_exponent))\n",
    "\n",
    "    filtered_tickers.sort(key=lambda x: x[1])\n",
    "    top_n_tickers = [ticker for ticker, _ in filtered_tickers]\n",
    "    # top_n_tickers = pd.DataFrame(top_n_tickers)\n",
    "    return top_n_tickers\n",
    "    "
   ]
  },
  {
   "cell_type": "code",
   "execution_count": 5,
   "metadata": {},
   "outputs": [],
   "source": [
    "hurst_filtered = hurst_filter()"
   ]
  },
  {
   "cell_type": "code",
   "execution_count": 6,
   "metadata": {},
   "outputs": [
    {
     "data": {
      "text/plain": [
       "['BDX',\n",
       " 'NI',\n",
       " 'K',\n",
       " 'ED',\n",
       " 'GEN',\n",
       " 'AMGN',\n",
       " 'CL',\n",
       " 'BIIB',\n",
       " 'EVRG',\n",
       " 'GILD',\n",
       " 'SJM',\n",
       " 'ATO',\n",
       " 'PNW',\n",
       " 'EIX',\n",
       " 'DLR',\n",
       " 'KMB',\n",
       " 'INCY',\n",
       " 'AEP',\n",
       " 'CME',\n",
       " 'CPB',\n",
       " 'CNC',\n",
       " 'JKHY',\n",
       " 'FLT',\n",
       " 'BF-B']"
      ]
     },
     "execution_count": 6,
     "metadata": {},
     "output_type": "execute_result"
    }
   ],
   "source": [
    "hurst_filtered"
   ]
  },
  {
   "cell_type": "code",
   "execution_count": null,
   "metadata": {},
   "outputs": [],
   "source": [
    "START_DATE = pd.Timestamp('2018-01-01')\n",
    "END_DATE = pd.Timestamp('2023-01-01')\n",
    "\n",
    "BASE_CAPITAL = 100_000\n",
    "\n",
    "def calculate_years() -> int:\n",
    "    return int((END_DATE - START_DATE).days / 365)\n",
    "\n",
    "YEARS = calculate_years()"
   ]
  },
  {
   "cell_type": "code",
   "execution_count": null,
   "metadata": {},
   "outputs": [],
   "source": [
    "def plots(results):\n",
    "    start = results.index[0]\n",
    "    end = results.index[-1]\n",
    "    benchmark = pdr.get_data_yahoo('^GSPC', start=start, end=end)['Adj Close'].pct_change()\n",
    "    results.index = pd.to_datetime(results.index).tz_convert(None)\n",
    "    results.index = benchmark.index  \n",
    "    qs.reports.full(results['returns'], benchmark = benchmark, match_dates=True, figsize=(8, 4))"
   ]
  },
  {
   "cell_type": "code",
   "execution_count": null,
   "metadata": {},
   "outputs": [],
   "source": []
  }
 ],
 "metadata": {
  "kernelspec": {
   "display_name": "finenv",
   "language": "python",
   "name": "python3"
  },
  "language_info": {
   "codemirror_mode": {
    "name": "ipython",
    "version": 3
   },
   "file_extension": ".py",
   "mimetype": "text/x-python",
   "name": "python",
   "nbconvert_exporter": "python",
   "pygments_lexer": "ipython3",
   "version": "3.9.18"
  }
 },
 "nbformat": 4,
 "nbformat_minor": 2
}
