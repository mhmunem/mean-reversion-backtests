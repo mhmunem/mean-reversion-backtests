{
 "cells": [
  {
   "cell_type": "code",
   "execution_count": 46,
   "metadata": {},
   "outputs": [],
   "source": [
    "from datetime import datetime\n",
    "import sys\n",
    "from os.path import abspath, exists\n",
    "from os import makedirs\n",
    "import pandas as pd\n",
    "from pandas_datareader import data as pdr\n",
    "import yfinance as yf\n",
    "from statsmodels.tsa.stattools import adfuller\n",
    "from hurst import compute_Hc\n",
    "yf.pdr_override()\n",
    "\n",
    "import import_ipynb\n",
    "from a_data_download import download_data"
   ]
  },
  {
   "cell_type": "code",
   "execution_count": 47,
   "metadata": {},
   "outputs": [],
   "source": [
    "ROOT_DIR = abspath('../')\n",
    "sys.path.append(ROOT_DIR)\n",
    "TICKER_FILE_PATH = f\"{ROOT_DIR}/data/sp500_tickers.csv\"\n",
    "PARQUET_FILE_PATH = f\"{ROOT_DIR}/data/sp500_stock_data.parquet\"\n",
    "\n",
    "START_DATE = datetime(2013, 1, 1)\n",
    "END_DATE = datetime(2023, 1, 1)\n",
    "\n",
    "def calculate_years() -> int:\n",
    "    return int((END_DATE - START_DATE).days / 365)\n",
    "\n",
    "YEARS = calculate_years()"
   ]
  },
  {
   "cell_type": "code",
   "execution_count": 48,
   "metadata": {},
   "outputs": [],
   "source": [
    "def load_tickers():\n",
    "    sp500_df = pd.read_csv(TICKER_FILE_PATH)\n",
    "    sp500_stock_data = pd.read_parquet(PARQUET_FILE_PATH) \n",
    "    return sp500_df['Ticker'].tolist(), sp500_stock_data\n",
    "\n",
    "\n",
    "\n",
    "def is_not_null(close_data: pd.Series) -> bool:\n",
    "    years = calculate_years()\n",
    "    return len(close_data) >= 251.5 * years\n",
    "    \n",
    "def perform_adf_test(close_data: pd.Series) -> float:\n",
    "    result = adfuller(close_data)\n",
    "    p_value = result[1] \n",
    "    if isinstance(p_value, (float)):\n",
    "        return float(p_value) \n",
    "    else:\n",
    "        raise ValueError(\"Unexpected type for p-value in ADF test result\")\n",
    "    \n",
    "def calculate_hurst_exponent(close_data: pd.Series) -> float:\n",
    "    H, c, data = compute_Hc(close_data, kind=\"price\", simplified=True)\n",
    "    return H\n",
    "    \n",
    "    \n",
    "def adf_filter(significance_level: float = 0.05):\n",
    "    sp500_tickers, sp500_stock_data = load_tickers()\n",
    "    filtered_tickers = []\n",
    "    for ticker in sp500_tickers:\n",
    "        if ticker in sp500_stock_data:\n",
    "            close_data = sp500_stock_data[ticker][START_DATE : END_DATE][\n",
    "                \"close\"\n",
    "            ].dropna()\n",
    "            if is_not_null(close_data):\n",
    "                p_value = perform_adf_test(close_data)\n",
    "                if p_value <= significance_level:\n",
    "                    filtered_tickers.append((ticker, p_value))\n",
    "\n",
    "    filtered_tickers.sort(key=lambda x: x[1])\n",
    "    top_n_tickers = [ticker for ticker, _ in filtered_tickers[:10]]\n",
    "    top_n_tickers = pd.DataFrame(top_n_tickers)\n",
    "    parquet_file_path = f\"{ROOT_DIR}/data/clusters/adf_cluster_{YEARS}y.parquet\"\n",
    "    top_n_tickers.to_parquet(parquet_file_path, engine=\"pyarrow\")\n",
    "\n",
    "    \n",
    "def hurst_filter(threshold: float = 0.5):\n",
    "    sp500_tickers, sp500_stock_data = load_tickers()\n",
    "    filtered_tickers = []\n",
    "    for ticker in sp500_tickers:\n",
    "        if ticker in sp500_stock_data:\n",
    "            close_data = sp500_stock_data[ticker][START_DATE : END_DATE][\n",
    "                \"close\"\n",
    "            ].dropna()\n",
    "            if is_not_null(close_data):\n",
    "                hurst_exponent = calculate_hurst_exponent(close_data)\n",
    "                if hurst_exponent <= threshold:\n",
    "                    filtered_tickers.append((ticker, hurst_exponent))\n",
    "\n",
    "    filtered_tickers.sort(key=lambda x: x[1])\n",
    "    top_n_tickers = [ticker for ticker, _ in filtered_tickers[:10]]\n",
    "    top_n_tickers = pd.DataFrame(top_n_tickers)\n",
    "    parquet_file_path = f\"{ROOT_DIR}/data/clusters/hurst_cluster_{YEARS}y.parquet\"\n",
    "    top_n_tickers.to_parquet(parquet_file_path, engine=\"pyarrow\")\n",
    "    \n",
    "    \n",
    "    "
   ]
  },
  {
   "cell_type": "code",
   "execution_count": 49,
   "metadata": {},
   "outputs": [],
   "source": [
    "def cluster_data(type: str):\n",
    "    if type == \"adf\":\n",
    "        adf_filter()\n",
    "    elif type == \"hurst\":\n",
    "        hurst_filter()"
   ]
  },
  {
   "cell_type": "code",
   "execution_count": 50,
   "metadata": {},
   "outputs": [],
   "source": [
    "if __name__ == \"__main__\":\n",
    "    cluster_data(\"hurst\")"
   ]
  }
 ],
 "metadata": {
  "kernelspec": {
   "display_name": "finenv",
   "language": "python",
   "name": "python3"
  },
  "language_info": {
   "codemirror_mode": {
    "name": "ipython",
    "version": 3
   },
   "file_extension": ".py",
   "mimetype": "text/x-python",
   "name": "python",
   "nbconvert_exporter": "python",
   "pygments_lexer": "ipython3",
   "version": "3.9.18"
  }
 },
 "nbformat": 4,
 "nbformat_minor": 2
}
